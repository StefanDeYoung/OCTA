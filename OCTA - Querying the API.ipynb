{
 "cells": [
  {
   "cell_type": "markdown",
   "metadata": {},
   "source": [
    "In this Notebook, I want to demonstrate how to query GPS times from OC Transpo.\n",
    "\n",
    "I'm using my OCTA application from OC Transpo, which registers a specific appID and apiKey."
   ]
  },
  {
   "cell_type": "code",
   "execution_count": 1,
   "metadata": {
    "collapsed": true
   },
   "outputs": [],
   "source": [
    "import requests\n",
    "from xml.etree import ElementTree"
   ]
  },
  {
   "cell_type": "code",
   "execution_count": 2,
   "metadata": {
    "collapsed": true
   },
   "outputs": [],
   "source": [
    "appID   = '19868ff1'\n",
    "apiKey  = 'd2f8cd08bc8b22dd4009e4e4d5dd0102'\n",
    "baseURL = \"https://api.octranspo1.com/v1.2/\"\n",
    "#command = \"GetRouteSummaryForStop\"\n",
    "#command = \"GetNextTripsForStop\"\n",
    "command = \"GetNextTripsForStopAllRoutes\"\n",
    "\n",
    "parameters = {\"appID\":appID, \"apiKey\":apiKey, \"stopNo\":4908, \"format\":\"json\"}"
   ]
  },
  {
   "cell_type": "code",
   "execution_count": 10,
   "metadata": {},
   "outputs": [
    {
     "name": "stdout",
     "output_type": "stream",
     "text": [
      "200\n"
     ]
    }
   ],
   "source": [
    "response = requests.get(baseURL+command, params=parameters)\n",
    "print(response.status_code) \n",
    "#200 indicates that a response has been returned"
   ]
  },
  {
   "cell_type": "code",
   "execution_count": 4,
   "metadata": {},
   "outputs": [
    {
     "name": "stdout",
     "output_type": "stream",
     "text": [
      "b'{\"GetRouteSummaryForStopResult\":{\"StopNo\":\"4908\",\"StopDescription\":\"CARLING \\\\/ CLYDE\",\"Error\":\"\",\"Routes\":{\"Route\":[{\"RouteNo\":50,\"DirectionID\":0,\"Direction\":\"Eastbound\",\"RouteHeading\":\"Tunney\\'s Pasture\",\"Trips\":[{\"TripDestination\":\"Tunney\\'s Pasture\",\"TripStartTime\":\"13:06\",\"AdjustedScheduleTime\":\"7\",\"AdjustmentAge\":\"0.42\",\"LastTripOfSchedule\":false,\"BusType\":\"4LB - IN\",\"Latitude\":\"45.363502\",\"Longitude\":\"-75.740989\",\"GPSSpeed\":\"20.3\"},{\"TripDestination\":\"Tunney\\'s Pasture\",\"TripStartTime\":\"13:36\",\"AdjustedScheduleTime\":\"35\",\"AdjustmentAge\":\"-1\",\"LastTripOfSchedule\":false,\"BusType\":\"4E - DEH\",\"Latitude\":\"\",\"Longitude\":\"\",\"GPSSpeed\":\"\"},{\"TripDestination\":\"Tunney\\'s Pasture\",\"TripStartTime\":\"14:06\",\"AdjustedScheduleTime\":\"66\",\"AdjustmentAge\":\"-1\",\"LastTripOfSchedule\":false,\"BusType\":\"4E - DEH\",\"Latitude\":\"\",\"Longitude\":\"\",\"GPSSpeed\":\"\"}]},{\"RouteNo\":85,\"DirectionID\":0,\"Direction\":\"Eastbound\",\"RouteHeading\":\"Lees\",\"Trips\":[{\"TripDestination\":\"Lees\",\"TripStartTime\":\"13:04\",\"AdjustedScheduleTime\":\"16\",\"AdjustmentAge\":\"0.70\",\"LastTripOfSchedule\":false,\"BusType\":\"6EB - 60\",\"Latitude\":\"45.360929\",\"Longitude\":\"-75.791597\",\"GPSSpeed\":\"41.1\"},{\"TripDestination\":\"Lees\",\"TripStartTime\":\"13:19\",\"AdjustedScheduleTime\":\"24\",\"AdjustmentAge\":\"0.43\",\"LastTripOfSchedule\":false,\"BusType\":\"6EB - 60\",\"Latitude\":\"45.346582\",\"Longitude\":\"-75.810203\",\"GPSSpeed\":\"0.5\"},{\"TripDestination\":\"Lees\",\"TripStartTime\":\"13:34\",\"AdjustedScheduleTime\":\"39\",\"AdjustmentAge\":\"-1\",\"LastTripOfSchedule\":false,\"BusType\":\"6EB - 60\",\"Latitude\":\"\",\"Longitude\":\"\",\"GPSSpeed\":\"\"}]}]}}}'\n"
     ]
    }
   ],
   "source": [
    "print(response.content)"
   ]
  },
  {
   "cell_type": "code",
   "execution_count": 5,
   "metadata": {},
   "outputs": [
    {
     "name": "stdout",
     "output_type": "stream",
     "text": [
      "{'Date': 'Wed, 07 Mar 2018 18:13:01 GMT', 'Server': 'Apache', 'X-Powered-By': 'PHP/5.3.3', 'Content-Length': '1560', 'Connection': 'close', 'Content-Type': 'text/html'}\n",
      "ISO-8859-1\n",
      "{\"GetRouteSummaryForStopResult\":{\"StopNo\":\"4908\",\"StopDescription\":\"CARLING \\/ CLYDE\",\"Error\":\"\",\"Routes\":{\"Route\":[{\"RouteNo\":50,\"DirectionID\":0,\"Direction\":\"Eastbound\",\"RouteHeading\":\"Tunney's Pasture\",\"Trips\":[{\"TripDestination\":\"Tunney's Pasture\",\"TripStartTime\":\"13:06\",\"AdjustedScheduleTime\":\"7\",\"AdjustmentAge\":\"0.42\",\"LastTripOfSchedule\":false,\"BusType\":\"4LB - IN\",\"Latitude\":\"45.363502\",\"Longitude\":\"-75.740989\",\"GPSSpeed\":\"20.3\"},{\"TripDestination\":\"Tunney's Pasture\",\"TripStartTime\":\"13:36\",\"AdjustedScheduleTime\":\"35\",\"AdjustmentAge\":\"-1\",\"LastTripOfSchedule\":false,\"BusType\":\"4E - DEH\",\"Latitude\":\"\",\"Longitude\":\"\",\"GPSSpeed\":\"\"},{\"TripDestination\":\"Tunney's Pasture\",\"TripStartTime\":\"14:06\",\"AdjustedScheduleTime\":\"66\",\"AdjustmentAge\":\"-1\",\"LastTripOfSchedule\":false,\"BusType\":\"4E - DEH\",\"Latitude\":\"\",\"Longitude\":\"\",\"GPSSpeed\":\"\"}]},{\"RouteNo\":85,\"DirectionID\":0,\"Direction\":\"Eastbound\",\"RouteHeading\":\"Lees\",\"Trips\":[{\"TripDestination\":\"Lees\",\"TripStartTime\":\"13:04\",\"AdjustedScheduleTime\":\"16\",\"AdjustmentAge\":\"0.70\",\"LastTripOfSchedule\":false,\"BusType\":\"6EB - 60\",\"Latitude\":\"45.360929\",\"Longitude\":\"-75.791597\",\"GPSSpeed\":\"41.1\"},{\"TripDestination\":\"Lees\",\"TripStartTime\":\"13:19\",\"AdjustedScheduleTime\":\"24\",\"AdjustmentAge\":\"0.43\",\"LastTripOfSchedule\":false,\"BusType\":\"6EB - 60\",\"Latitude\":\"45.346582\",\"Longitude\":\"-75.810203\",\"GPSSpeed\":\"0.5\"},{\"TripDestination\":\"Lees\",\"TripStartTime\":\"13:34\",\"AdjustedScheduleTime\":\"39\",\"AdjustmentAge\":\"-1\",\"LastTripOfSchedule\":false,\"BusType\":\"6EB - 60\",\"Latitude\":\"\",\"Longitude\":\"\",\"GPSSpeed\":\"\"}]}]}}}\n"
     ]
    }
   ],
   "source": [
    "#data= response.content.decode(\"utf-8\")\n",
    "\n",
    "print(response.headers)\n",
    "print(response.encoding)\n",
    "print(response.text)\n"
   ]
  },
  {
   "cell_type": "markdown",
   "metadata": {
    "collapsed": true
   },
   "source": [
    "Parse some XML now or something."
   ]
  },
  {
   "cell_type": "code",
   "execution_count": 6,
   "metadata": {},
   "outputs": [
    {
     "ename": "ParseError",
     "evalue": "not well-formed (invalid token): line 1, column 0 (<string>)",
     "output_type": "error",
     "traceback": [
      "Traceback \u001b[1;36m(most recent call last)\u001b[0m:\n",
      "  File \u001b[0;32m\"C:\\Anaconda\\lib\\site-packages\\IPython\\core\\interactiveshell.py\"\u001b[0m, line \u001b[0;32m2862\u001b[0m, in \u001b[0;35mrun_code\u001b[0m\n    exec(code_obj, self.user_global_ns, self.user_ns)\n",
      "  File \u001b[0;32m\"<ipython-input-6-7d090b0cf681>\"\u001b[0m, line \u001b[0;32m2\u001b[0m, in \u001b[0;35m<module>\u001b[0m\n    root = ElementTree.fromstring(response.text)\n",
      "\u001b[1;36m  File \u001b[1;32m\"C:\\Anaconda\\lib\\xml\\etree\\ElementTree.py\"\u001b[1;36m, line \u001b[1;32m1314\u001b[1;36m, in \u001b[1;35mXML\u001b[1;36m\u001b[0m\n\u001b[1;33m    parser.feed(text)\u001b[0m\n",
      "\u001b[1;36m  File \u001b[1;32m\"<string>\"\u001b[1;36m, line \u001b[1;32munknown\u001b[0m\n\u001b[1;31mParseError\u001b[0m\u001b[1;31m:\u001b[0m not well-formed (invalid token): line 1, column 0\n"
     ]
    }
   ],
   "source": [
    "# XML parsing here\n",
    "root = ElementTree.fromstring(response.text)\n",
    "\n",
    "def trav(node):\n",
    "    for child in node:\n",
    "        print(child.tag, child.text)\n",
    "        trav(child)\n",
    "        \n",
    "trav(root)"
   ]
  },
  {
   "cell_type": "code",
   "execution_count": 11,
   "metadata": {
    "collapsed": true
   },
   "outputs": [],
   "source": [
    "data = response.json()"
   ]
  },
  {
   "cell_type": "code",
   "execution_count": 8,
   "metadata": {},
   "outputs": [
    {
     "name": "stdout",
     "output_type": "stream",
     "text": [
      "{'GetRouteSummaryForStopResult': {'StopNo': '4908', 'StopDescription': 'CARLING / CLYDE', 'Error': '', 'Routes': {'Route': [{'RouteNo': 50, 'DirectionID': 0, 'Direction': 'Eastbound', 'RouteHeading': \"Tunney's Pasture\", 'Trips': [{'TripDestination': \"Tunney's Pasture\", 'TripStartTime': '13:06', 'AdjustedScheduleTime': '7', 'AdjustmentAge': '0.42', 'LastTripOfSchedule': False, 'BusType': '4LB - IN', 'Latitude': '45.363502', 'Longitude': '-75.740989', 'GPSSpeed': '20.3'}, {'TripDestination': \"Tunney's Pasture\", 'TripStartTime': '13:36', 'AdjustedScheduleTime': '35', 'AdjustmentAge': '-1', 'LastTripOfSchedule': False, 'BusType': '4E - DEH', 'Latitude': '', 'Longitude': '', 'GPSSpeed': ''}, {'TripDestination': \"Tunney's Pasture\", 'TripStartTime': '14:06', 'AdjustedScheduleTime': '66', 'AdjustmentAge': '-1', 'LastTripOfSchedule': False, 'BusType': '4E - DEH', 'Latitude': '', 'Longitude': '', 'GPSSpeed': ''}]}, {'RouteNo': 85, 'DirectionID': 0, 'Direction': 'Eastbound', 'RouteHeading': 'Lees', 'Trips': [{'TripDestination': 'Lees', 'TripStartTime': '13:04', 'AdjustedScheduleTime': '16', 'AdjustmentAge': '0.70', 'LastTripOfSchedule': False, 'BusType': '6EB - 60', 'Latitude': '45.360929', 'Longitude': '-75.791597', 'GPSSpeed': '41.1'}, {'TripDestination': 'Lees', 'TripStartTime': '13:19', 'AdjustedScheduleTime': '24', 'AdjustmentAge': '0.43', 'LastTripOfSchedule': False, 'BusType': '6EB - 60', 'Latitude': '45.346582', 'Longitude': '-75.810203', 'GPSSpeed': '0.5'}, {'TripDestination': 'Lees', 'TripStartTime': '13:34', 'AdjustedScheduleTime': '39', 'AdjustmentAge': '-1', 'LastTripOfSchedule': False, 'BusType': '6EB - 60', 'Latitude': '', 'Longitude': '', 'GPSSpeed': ''}]}]}}}\n"
     ]
    }
   ],
   "source": [
    "print(data)"
   ]
  },
  {
   "cell_type": "code",
   "execution_count": 12,
   "metadata": {},
   "outputs": [
    {
     "name": "stdout",
     "output_type": "stream",
     "text": [
      "{'GetRouteSummaryForStopResult': {'Error': '',\n",
      "                                  'Routes': {'Route': [{'Direction': 'Eastbound',\n",
      "                                                        'DirectionID': 0,\n",
      "                                                        'RouteHeading': \"Tunney's \"\n",
      "                                                                        'Pasture',\n",
      "                                                        'RouteNo': 50,\n",
      "                                                        'Trips': [{'AdjustedScheduleTime': '6',\n",
      "                                                                   'AdjustmentAge': '0.16',\n",
      "                                                                   'BusType': '4LB '\n",
      "                                                                              '- '\n",
      "                                                                              'IN',\n",
      "                                                                   'GPSSpeed': '22.4',\n",
      "                                                                   'LastTripOfSchedule': False,\n",
      "                                                                   'Latitude': '45.364705',\n",
      "                                                                   'Longitude': '-75.748773',\n",
      "                                                                   'TripDestination': \"Tunney's \"\n",
      "                                                                                      'Pasture',\n",
      "                                                                   'TripStartTime': '13:06'},\n",
      "                                                                  {'AdjustedScheduleTime': '34',\n",
      "                                                                   'AdjustmentAge': '-1',\n",
      "                                                                   'BusType': '4E '\n",
      "                                                                              '- '\n",
      "                                                                              'DEH',\n",
      "                                                                   'GPSSpeed': '',\n",
      "                                                                   'LastTripOfSchedule': False,\n",
      "                                                                   'Latitude': '',\n",
      "                                                                   'Longitude': '',\n",
      "                                                                   'TripDestination': \"Tunney's \"\n",
      "                                                                                      'Pasture',\n",
      "                                                                   'TripStartTime': '13:36'},\n",
      "                                                                  {'AdjustedScheduleTime': '65',\n",
      "                                                                   'AdjustmentAge': '-1',\n",
      "                                                                   'BusType': '4E '\n",
      "                                                                              '- '\n",
      "                                                                              'DEH',\n",
      "                                                                   'GPSSpeed': '',\n",
      "                                                                   'LastTripOfSchedule': False,\n",
      "                                                                   'Latitude': '',\n",
      "                                                                   'Longitude': '',\n",
      "                                                                   'TripDestination': \"Tunney's \"\n",
      "                                                                                      'Pasture',\n",
      "                                                                   'TripStartTime': '14:06'}]},\n",
      "                                                       {'Direction': 'Eastbound',\n",
      "                                                        'DirectionID': 0,\n",
      "                                                        'RouteHeading': 'Lees',\n",
      "                                                        'RouteNo': 85,\n",
      "                                                        'Trips': [{'AdjustedScheduleTime': '15',\n",
      "                                                                   'AdjustmentAge': '0.24',\n",
      "                                                                   'BusType': '6EB '\n",
      "                                                                              '- '\n",
      "                                                                              '60',\n",
      "                                                                   'GPSSpeed': '29.1',\n",
      "                                                                   'LastTripOfSchedule': False,\n",
      "                                                                   'Latitude': '45.363839',\n",
      "                                                                   'Longitude': '-75.784935',\n",
      "                                                                   'TripDestination': 'Lees',\n",
      "                                                                   'TripStartTime': '13:04'},\n",
      "                                                                  {'AdjustedScheduleTime': '23',\n",
      "                                                                   'AdjustmentAge': '0.34',\n",
      "                                                                   'BusType': '6EB '\n",
      "                                                                              '- '\n",
      "                                                                              '60',\n",
      "                                                                   'GPSSpeed': '25.7',\n",
      "                                                                   'LastTripOfSchedule': False,\n",
      "                                                                   'Latitude': '45.345750',\n",
      "                                                                   'Longitude': '-75.809384',\n",
      "                                                                   'TripDestination': 'Lees',\n",
      "                                                                   'TripStartTime': '13:19'},\n",
      "                                                                  {'AdjustedScheduleTime': '38',\n",
      "                                                                   'AdjustmentAge': '-1',\n",
      "                                                                   'BusType': '6EB '\n",
      "                                                                              '- '\n",
      "                                                                              '60',\n",
      "                                                                   'GPSSpeed': '',\n",
      "                                                                   'LastTripOfSchedule': False,\n",
      "                                                                   'Latitude': '',\n",
      "                                                                   'Longitude': '',\n",
      "                                                                   'TripDestination': 'Lees',\n",
      "                                                                   'TripStartTime': '13:34'}]}]},\n",
      "                                  'StopDescription': 'CARLING / CLYDE',\n",
      "                                  'StopNo': '4908'}}\n"
     ]
    }
   ],
   "source": [
    "import pprint\n",
    "pprint.pprint(data)"
   ]
  },
  {
   "cell_type": "code",
   "execution_count": null,
   "metadata": {
    "collapsed": true
   },
   "outputs": [],
   "source": []
  }
 ],
 "metadata": {
  "kernelspec": {
   "display_name": "Python 3",
   "language": "python",
   "name": "python3"
  },
  "language_info": {
   "codemirror_mode": {
    "name": "ipython",
    "version": 3
   },
   "file_extension": ".py",
   "mimetype": "text/x-python",
   "name": "python",
   "nbconvert_exporter": "python",
   "pygments_lexer": "ipython3",
   "version": "3.6.5"
  }
 },
 "nbformat": 4,
 "nbformat_minor": 2
}
