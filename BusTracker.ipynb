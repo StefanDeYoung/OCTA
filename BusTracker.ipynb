{
 "cells": [
  {
   "cell_type": "markdown",
   "metadata": {},
   "source": [
    "# Mapping a bus route\n",
    "\n",
    "In this notebook, I would like to query the end stop on a bus route repeatedly in order to plot the bus transit on a map."
   ]
  },
  {
   "cell_type": "markdown",
   "metadata": {},
   "source": [
    "## Helper Functions"
   ]
  },
  {
   "cell_type": "code",
   "execution_count": 6,
   "metadata": {},
   "outputs": [],
   "source": [
    "def queryBusStop (stopNo):\n",
    "#This function calls the OC Transpo API and returns a json object containing\n",
    "#the next three trips for each bus at a particular stop.\n",
    "\n",
    "    import requests\n",
    "\n",
    "    appID   = '19868ff1'\n",
    "    apiKey  = 'd2f8cd08bc8b22dd4009e4e4d5dd0102'\n",
    "    baseURL = \"https://api.octranspo1.com/v1.3/\"\n",
    "    command = \"GetNextTripsForStopAllRoutes\"\n",
    "\n",
    "    parameters = {\"appID\":appID, \"apiKey\":apiKey, \"stopNo\":stopNo, \"format\":\"json\"}\n",
    "\n",
    "    response = requests.get(baseURL+command, params=parameters)\n",
    "\n",
    "    if response.status_code != 200:\n",
    "        print(\"Error: Bad response from API\")\n",
    "    \n",
    "    data = response.json()\n",
    "    return data"
   ]
  },
  {
   "cell_type": "code",
   "execution_count": 46,
   "metadata": {},
   "outputs": [],
   "source": [
    "def getLatLon(stopNo, busNo):\n",
    "    #Query the API and extract the latitude and longitude data for the specified bus\n",
    "\n",
    "    #Query the API to get data from the Bus Stop\n",
    "    data = queryBusStop(stopNo)\n",
    "    data = data['GetRouteSummaryForStopResult']['Routes']['Route'] #Throw out the preamble\n",
    "    \n",
    "    #Select the correct Bus\n",
    "    noRoutes = len(data) #The number of routes serving the stop\n",
    "           \n",
    "    for i in range(0,noRoutes):\n",
    "        if busNo == int(data[i]['RouteNo']):\n",
    "            routeIdx = i\n",
    "                       \n",
    "    #Grab only the first trip of our selected route\n",
    "    data = data[routeIdx]['Trips'][0]\n",
    "\n",
    "    #Grab the LatLon and return\n",
    "    latlon = (data['Latitude'], data['Longitude'])\n",
    "    return latlon"
   ]
  },
  {
   "cell_type": "markdown",
   "metadata": {},
   "source": [
    "## Gathering Data\n",
    "Gather n datapoints separated in time by t seconds"
   ]
  },
  {
   "cell_type": "code",
   "execution_count": 49,
   "metadata": {},
   "outputs": [
    {
     "name": "stdout",
     "output_type": "stream",
     "text": [
      ".\n",
      ".\n",
      ".\n",
      ".\n",
      ".\n",
      ".\n"
     ]
    },
    {
     "ename": "KeyboardInterrupt",
     "evalue": "",
     "output_type": "error",
     "traceback": [
      "\u001b[0;31m---------------------------------------------------------------------------\u001b[0m",
      "\u001b[0;31mKeyboardInterrupt\u001b[0m                         Traceback (most recent call last)",
      "\u001b[0;32m<ipython-input-49-f4158b7226c1>\u001b[0m in \u001b[0;36m<module>\u001b[0;34m\u001b[0m\n\u001b[1;32m     13\u001b[0m     \u001b[0mdata\u001b[0m\u001b[0;34m.\u001b[0m\u001b[0mappend\u001b[0m\u001b[0;34m(\u001b[0m\u001b[0mlatlon\u001b[0m\u001b[0;34m)\u001b[0m\u001b[0;34m\u001b[0m\u001b[0;34m\u001b[0m\u001b[0m\n\u001b[1;32m     14\u001b[0m     \u001b[0mprint\u001b[0m\u001b[0;34m(\u001b[0m\u001b[0;34m\".\"\u001b[0m\u001b[0;34m)\u001b[0m\u001b[0;34m\u001b[0m\u001b[0;34m\u001b[0m\u001b[0m\n\u001b[0;32m---> 15\u001b[0;31m     \u001b[0mtime\u001b[0m\u001b[0;34m.\u001b[0m\u001b[0msleep\u001b[0m\u001b[0;34m(\u001b[0m\u001b[0mt\u001b[0m\u001b[0;34m)\u001b[0m \u001b[0;31m#Don't wait the last t seconds before reporting complete collection?\u001b[0m\u001b[0;34m\u001b[0m\u001b[0;34m\u001b[0m\u001b[0m\n\u001b[0m\u001b[1;32m     16\u001b[0m \u001b[0;34m\u001b[0m\u001b[0m\n\u001b[1;32m     17\u001b[0m \u001b[0mprint\u001b[0m\u001b[0;34m(\u001b[0m\u001b[0;34m\"Data Collection Complete\"\u001b[0m\u001b[0;34m)\u001b[0m\u001b[0;34m\u001b[0m\u001b[0;34m\u001b[0m\u001b[0m\n",
      "\u001b[0;31mKeyboardInterrupt\u001b[0m: "
     ]
    }
   ],
   "source": [
    "import time\n",
    "\n",
    "n = 4    #Number of datapoints to gather\n",
    "t = 15   #Separation in time between datapoints\n",
    "#n=4,t=15 => gather data for 1 minute\n",
    "\n",
    "data = []\n",
    "\n",
    "#Stop 5000 is Holland and Scott facing North\n",
    "#served by 11 Bayshore, 11 Parliament, 80 Tunney's Pasture\n",
    "\n",
    "for i in range(0,n):\n",
    "    latlon = getLatLon(5000, 80)\n",
    "    data.append(latlon)\n",
    "    print(\".\")\n",
    "    time.sleep(t) #Don't wait the last t seconds before reporting complete collection?\n",
    "\n",
    "print(\"Data Collection Complete\")"
   ]
  },
  {
   "cell_type": "code",
   "execution_count": 50,
   "metadata": {},
   "outputs": [
    {
     "data": {
      "text/plain": [
       "[('45.399615', '-75.731871'),\n",
       " ('45.399706', '-75.731934'),\n",
       " ('45.401712', '-75.733159'),\n",
       " ('45.401712', '-75.733159'),\n",
       " ('45.401712', '-75.733159'),\n",
       " ('45.401712', '-75.733159')]"
      ]
     },
     "execution_count": 50,
     "metadata": {},
     "output_type": "execute_result"
    }
   ],
   "source": [
    "data"
   ]
  },
  {
   "cell_type": "code",
   "execution_count": null,
   "metadata": {},
   "outputs": [],
   "source": []
  }
 ],
 "metadata": {
  "kernelspec": {
   "display_name": "Python 3",
   "language": "python",
   "name": "python3"
  },
  "language_info": {
   "codemirror_mode": {
    "name": "ipython",
    "version": 3
   },
   "file_extension": ".py",
   "mimetype": "text/x-python",
   "name": "python",
   "nbconvert_exporter": "python",
   "pygments_lexer": "ipython3",
   "version": "3.7.3"
  }
 },
 "nbformat": 4,
 "nbformat_minor": 2
}
